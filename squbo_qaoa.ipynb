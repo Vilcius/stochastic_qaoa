{
 "cells": [
  {
   "cell_type": "code",
   "execution_count": 1,
   "metadata": {},
   "outputs": [],
   "source": [
    "# This cell is added by sphinx-gallery\n",
    "# It can be customized to whatever you like\n",
    "%matplotlib inline"
   ]
  },
  {
   "cell_type": "code",
   "execution_count": 2,
   "metadata": {},
   "outputs": [],
   "source": [
    "import pennylane as qml\n",
    "from pennylane import numpy as np\n",
    "from matplotlib import pyplot as plt\n",
    "\n",
    "np.random.seed(42)"
   ]
  },
  {
   "cell_type": "markdown",
   "metadata": {},
   "source": [
    "# QUBO #\n",
    "Suppose we have the following QUBO with uncertainty on the linear term $x_2$:\n",
    "$$\n",
    "    2 x_0 x_1 + x_0 + c x_1,\n",
    "$$\n",
    "where $c$ is equal to -3 or 1 with probability $\\frac{1}{2}$.\n",
    "This means classically we have two QUBOs:\n",
    "$$\n",
    "    S_0: 2 x_0 x_1 + x_0 - 3x_1, \\;\\;\\;\\; S_1: 2 x_0 x_1 + x_0 + x_1\n",
    "$$\n",
    "Using the mapping $x_i \\to \\frac{1}{2}(\\mathbb{I} - Z_i)$, the respective Ising Hamiltonians are:\n",
    "$$\n",
    "    H_0: \\frac{1}{2} (-1 \\mathbb{I} - 2 Z_0 +2 Z_1 + Z_0 Z_1) \\;\\;\\;\\; H_1: \\frac{1}{2} (3 \\mathbb{I} - 2 Z_0 + 2 Z_1 + Z_0 Z_1)\n",
    "$$\n",
    "We can combine the Hamiltonians based on the value of $c$:\n",
    "$$\n",
    "    H_c: \\frac{1}{2} (2 \\mathbb{I} - 4 Z_0 + 2 Z_0 Z_1).\n",
    "$$"
   ]
  },
  {
   "cell_type": "code",
   "execution_count": 3,
   "metadata": {},
   "outputs": [
    {
     "name": "stdout",
     "output_type": "stream",
     "text": [
      "H_0 =\n",
      "  (-1.0) [Z0]\n",
      "+ (-0.5) [I0]\n",
      "+ (1.0) [Z1]\n",
      "+ (0.5) [Z0 Z1]\n",
      "\n",
      "H_1 =\n",
      "  (-1.0) [Z0]\n",
      "+ (-1.0) [Z1]\n",
      "+ (1.5) [I0]\n",
      "+ (0.5) [Z0 Z1]\n",
      "\n",
      "H_c =\n",
      "  (-2.0) [Z0]\n",
      "+ (1.0) [I0]\n",
      "+ (1.0) [Z0 Z1]\n",
      "\n",
      "x = (0,0): obj0 = 0, obj1 = 0, objc = 0\n",
      "x = (0,1): obj0 = -3, obj1 = 1, objc = -2\n",
      "x = (1,0): obj0 = 1, obj1 = 1, objc = 2\n",
      "x = (1,1): obj0 = 0, obj1 = 4, objc = 4\n"
     ]
    }
   ],
   "source": [
    "x = [1/2 * (qml.Identity(i) - qml.PauliZ(i)) for i in range(2)]\n",
    "\n",
    "# scenario 0\n",
    "def obj0(x0, x1):\n",
    "    if type(x0) == qml.Hamiltonian:\n",
    "        return 2*x0@x1 + x0 - 3*x1\n",
    "    else:\n",
    "        return 2*x0*x1 + x0 - 3*x1\n",
    "    \n",
    "H0 = obj0(x[0], x[1])\n",
    "print(f'H_0 =\\n{H0}\\n')\n",
    "\n",
    "# scenario 1\n",
    "def obj1(x0, x1):\n",
    "    if type(x0) == qml.Hamiltonian:\n",
    "        return 2*x0@x1 + x0 + x1\n",
    "    else:\n",
    "        return 2*x0*x1 + x0 + x1\n",
    "H1 = obj1(x[0], x[1])\n",
    "print(f'H_1 =\\n{H1}\\n')\n",
    "\n",
    "# combined\n",
    "Hc = H0 + H1\n",
    "print(f'H_c =\\n{Hc}\\n')\n",
    "\n",
    "for i in range(2):\n",
    "    for ii in range(2):\n",
    "        o0 = obj0(i,ii)\n",
    "        o1 = obj1(i,ii)\n",
    "        print(f'x = ({i},{ii}): obj0 = {o0}, obj1 = {o1}, objc = {o0 + o1}')"
   ]
  },
  {
   "cell_type": "markdown",
   "metadata": {},
   "source": [
    "## Testing ##"
   ]
  },
  {
   "cell_type": "code",
   "execution_count": 6,
   "metadata": {
    "scrolled": false
   },
   "outputs": [
    {
     "name": "stdout",
     "output_type": "stream",
     "text": [
      "0.5 * PauliZ(wires=[0]) @ PauliZ(wires=[1])\n",
      "Controlled(CommutingEvolution(1, 0.5, wires=[0, 1]), control_wires=[2, 3], control_values=[False, True])\n",
      "-1.0 * PauliZ(wires=[0])\n",
      "Controlled(CommutingEvolution(1, -1.0, wires=[0]), control_wires=[2, 3], control_values=[False, True])\n",
      "-1.0 * PauliZ(wires=[1])\n",
      "Controlled(CommutingEvolution(1, -1.0, wires=[1]), control_wires=[2, 3], control_values=[False, True])\n",
      "1.5 * Identity(wires=[0])\n"
     ]
    }
   ],
   "source": [
    "C = obj1(1/2*(qml.Identity(0)-qml.PauliZ(0)),1/2*(qml.Identity(1)-qml.PauliZ(1)))\n",
    "Uc = qml.CommutingEvolution(C,1)\n",
    "\n",
    "\n",
    "for i in range(len(H0.ops)):\n",
    "    op = C.ops[i]\n",
    "    coeff = C.coeffs[i]\n",
    "    print(f'{coeff} * {op}')\n",
    "    if not op.compare(qml.Identity(0)):\n",
    "        UC = qml.CommutingEvolution(qml.Hamiltonian([coeff],[op]),1)\n",
    "        print(qml.ctrl(UC,(2,3),(0,1))\n",
    "             )"
   ]
  },
  {
   "cell_type": "markdown",
   "metadata": {},
   "source": [
    "We will need a way to convert a bitstring, representing a sample of\n",
    "multiple qubits in the computational basis, to integer or base-10 form.\n"
   ]
  },
  {
   "cell_type": "code",
   "execution_count": 7,
   "metadata": {},
   "outputs": [],
   "source": [
    "def bitstring_to_int(bit_string_sample):\n",
    "    bit_string = \"\".join(str(bs) for bs in bit_string_sample)\n",
    "    return int(bit_string, base=2)"
   ]
  },
  {
   "cell_type": "markdown",
   "metadata": {},
   "source": [
    "Here we define the quantum device we are using."
   ]
  },
  {
   "cell_type": "code",
   "execution_count": 8,
   "metadata": {},
   "outputs": [
    {
     "data": {
      "text/plain": [
       "<Wires = ['x0', 'x1', 's0', 's1']>"
      ]
     },
     "execution_count": 8,
     "metadata": {},
     "output_type": "execute_result"
    }
   ],
   "source": [
    "n_wires=2\n",
    "n_scenarios=2\n",
    "\n",
    "var = [f'x{i}' for i in range(n_wires)]\n",
    "scen = [f's{i}' for i in range(n_scenarios)]\n",
    "\n",
    "# used to remap the wires in the Hamiltonians defined above\n",
    "wiremap = {}\n",
    "for i in range(n_wires):\n",
    "    wiremap[i] = var[i]\n",
    "    \n",
    "C = [H0, H1]\n",
    "\n",
    "sdev = qml.device(\"default.qubit\", wires=var+scen, shots=1)\n",
    "sdev.wires"
   ]
  },
  {
   "cell_type": "code",
   "execution_count": 9,
   "metadata": {},
   "outputs": [
    {
     "name": "stdout",
     "output_type": "stream",
     "text": [
      "[0, 0]\n",
      "[1, 0]\n"
     ]
    }
   ],
   "source": [
    "def to_ctrl_val(i, n):\n",
    "    i = f'{i:0{n}b}'\n",
    "    ctrl_val = []\n",
    "    for s in i[::-1]:\n",
    "        ctrl_val.append(int(s))\n",
    "    return ctrl_val\n",
    "for i in range(n_scenarios):\n",
    "    print(to_ctrl_val(i, n_scenarios))"
   ]
  },
  {
   "cell_type": "markdown",
   "metadata": {},
   "source": [
    "# Gates #\n",
    "To solve a stochastic QUBO with QAOA, we will use additional scenario qubit(s) as controls for the term in the Hamiltonian that differs.\n",
    "The *Mixing Hamiltonian* $B = \\sum_{i=0}^{n} X_i$ will only apply to the non-scenario qubits.\n",
    "We implement $B$ as\n",
    "$$\n",
    "U(B,\\beta) = \\exp(-i \\beta B) = \\prod_{i=0}^n RX_i(2\\beta).\n",
    "$$\n",
    "The *Cost Hamiltonian* $C$ will be one of $H_0$ and $H_1$ depending on which scenario we are in.\n",
    "In each case, we will have $U(H_0, \\gamma)$ and $U(H_1, \\gamma)$.\n",
    "However, we only want one of these to be applied depending on the scenario we are in.\n",
    "We can use the scenario qubit $s$ to implement this as controls for each unitary:\n",
    "$$\n",
    "    U(C,\\gamma) = C_0U(H_0,\\gamma) C_1U(H_1,\\gamma).\n",
    "$$"
   ]
  },
  {
   "cell_type": "code",
   "execution_count": 10,
   "metadata": {},
   "outputs": [],
   "source": [
    "# unitary operator U_B with parameter beta\n",
    "def U_B(beta):\n",
    "    for wire in var:\n",
    "        qml.RX(2 * beta, wires=wire)\n",
    "\n",
    "# unitary operator U_C with parameter gamma\n",
    "def U_C(C,gamma,scen):\n",
    "    for s in range(n_scenarios):\n",
    "        Cs = C[s].map_wires(wiremap)\n",
    "        UCs = qml.CommutingEvolution(Cs,gamma)\n",
    "        qml.ctrl(UCs,\n",
    "                 control=scen,\n",
    "                 control_values=to_ctrl_val(2**s,n_scenarios))\n",
    "    \n",
    "    "
   ]
  },
  {
   "cell_type": "markdown",
   "metadata": {},
   "source": [
    "# The Circuit #\n",
    "Now we build the circuit that solves the stochastic QUBO.\n",
    "We initalize the variable qubit into the state\n",
    "$$\n",
    "|s\\rangle = \\sum_{z \\in \\{0,1\\}^n} |z\\rangle.\n",
    "$$\n",
    "We also initalize the scenario qubit in to an equal superposition of the scenarios:\n",
    "$$\n",
    "\\frac{1}{\\sqrt{2}} (|10\\rangle + |01\\rangle).\n",
    "$$\n",
    "Now we apply $p$ alternating layers of $U(C,\\gamma)$ (on the variable and scenario qubits) and $U(B,\\beta)$ (only on the variable qubits)."
   ]
  },
  {
   "cell_type": "code",
   "execution_count": 11,
   "metadata": {},
   "outputs": [],
   "source": [
    "#@qml.qnode(dev)\n",
    "@qml.qnode(sdev)\n",
    "def circuit(gammas, betas, sample=False, n_layers=1):\n",
    "    # apply Hadamards to get the n qubit |+> state\n",
    "    for x in var:\n",
    "        qml.Hadamard(wires=x)\n",
    "        \n",
    "    # initialize scenario qubit\n",
    "    #qml.Hadamard(wires='s0')\n",
    "    \n",
    "    # will be useful when having multiple scenarios\n",
    "    w_state = np.zeros(2**n_scenarios)\n",
    "    probs = [1/n_scenarios,1/n_scenarios,1/n_scenarios]\n",
    "    for i in range(n_scenarios):\n",
    "        w_state[2**i] = np.sqrt(probs[i])\n",
    "    qml.MottonenStatePreparation(w_state,wires=scen)\n",
    "    \n",
    "    # p instances of unitary operators\n",
    "    for i in range(n_layers):\n",
    "        U_C(C,gammas[i],scen)\n",
    "        U_B(betas[i])\n",
    "    \n",
    "    # return samples instead of expectation value\n",
    "    if sample:\n",
    "        # measurement phase\n",
    "        return qml.sample()\n",
    "    \n",
    "    # during the optimization phase we are evaluating the objective using expval\n",
    "    # use Hamiltonian corresponding to scenario\n",
    "    ## DOES NOT WORK FOR MORE THAN 2 SCENARIOS\n",
    "    #s = qml.measure(scen)\n",
    "    #if s == 0:\n",
    "    #    H = H_0\n",
    "    #else:\n",
    "    #    H = H_1\n",
    "    \n",
    "    # Currently use the sum of the Cost Hamiltonians.\n",
    "    H = sum(C)\n",
    "    return qml.expval(H.map_wires(wiremap))"
   ]
  },
  {
   "cell_type": "code",
   "execution_count": 12,
   "metadata": {},
   "outputs": [],
   "source": [
    "def sqaoa(n_layers=1):\n",
    "    print(\"\\np={:d}\".format(n_layers))\n",
    "\n",
    "    # initialize the parameters near zero\n",
    "    init_params = 0.01 * np.random.rand(2, n_layers, requires_grad=True)\n",
    "\n",
    "    # minimize the negative of the objective function\n",
    "    def objective(params):\n",
    "        gammas = params[0]\n",
    "        betas = params[1]\n",
    "        neg_obj = -circuit(gammas, betas,n_layers=n_layers)\n",
    "        return neg_obj\n",
    "\n",
    "    # initialize optimizer: Adagrad works well empirically\n",
    "    opt = qml.AdagradOptimizer(stepsize=0.5)\n",
    "\n",
    "    # optimize parameters in objective\n",
    "    params = init_params\n",
    "    steps = 50\n",
    "    for i in range(steps):\n",
    "        params = opt.step(objective, params)\n",
    "        if (i + 1) % 5 == 0:\n",
    "            print(\"Objective after step {:5d}: {: .7f}\".format(i + 1, -objective(params)))\n",
    "\n",
    "    # sample measured bitstrings 100 times\n",
    "    bit_strings = []\n",
    "    n_samples = 1000\n",
    "    for i in range(0, n_samples):\n",
    "        bit_strings.append(bitstring_to_int(circuit(params[0], params[1], sample=True, n_layers=n_layers)))\n",
    "\n",
    "    # print optimal parameters and most frequently sampled bitstring\n",
    "    counts = np.bincount(np.array(bit_strings))\n",
    "    most_freq_bit_string = np.argmax(counts)\n",
    "    print(\"Optimized (gamma, beta) vectors:\\n{}\".format(params[:, :n_layers]))\n",
    "    print(\"Most frequently sampled bit string is: {:03b} with probability {:.4f}\".format(most_freq_bit_string,counts[most_freq_bit_string]/n_samples))\n",
    "\n",
    "    return params, bit_strings"
   ]
  },
  {
   "cell_type": "code",
   "execution_count": 13,
   "metadata": {},
   "outputs": [],
   "source": [
    "import matplotlib.pyplot as plt\n",
    "\n",
    "def graph(bitstrings1):\n",
    "    \n",
    "    xticks = range(0, 2**(n_wires+n_scenarios))\n",
    "    xtick_labels = list(map(lambda x: format(x, f\"0{n_wires+n_scenarios}b\"), xticks))\n",
    "    bins = np.arange(0, 2**(n_wires+n_scenarios)+1) - 0.5\n",
    "\n",
    "    plt.figure(figsize=(16, 8))\n",
    "    plt.rc('font', size=16)\n",
    "    plt.title(\"s-QAOA\")\n",
    "    plt.xlabel(\"Bitstrings\")\n",
    "    plt.ylabel(\"Frequency\")\n",
    "    plt.xticks(xticks, xtick_labels, rotation=\"vertical\")\n",
    "    plt.hist([bitstrings1], \n",
    "             bins=bins, \n",
    "             density=True,\n",
    "             color=['#286d8c'],\n",
    "             edgecolor = \"#041017\",\n",
    "             label=['s-QAOA'])\n",
    "    plt.legend()\n",
    "    plt.tight_layout()\n",
    "    \n",
    "    plt.show()"
   ]
  },
  {
   "cell_type": "markdown",
   "metadata": {},
   "source": [
    "Now we run QAOA and graph the results. Note that the bitstrings are read '$q_0 q_1 s_0 s_1$'.\n",
    "\n",
    "The optimal result for scenario 0 is $x = (1,0)$ with value $1$, so output bitstring $1010$.\n",
    "\n",
    "The optimal result for scenario 1 is $x = (1,1)$ with value $4$, so output bitstring $1101$."
   ]
  },
  {
   "cell_type": "code",
   "execution_count": 14,
   "metadata": {
    "scrolled": false
   },
   "outputs": [
    {
     "name": "stdout",
     "output_type": "stream",
     "text": [
      "\n",
      "p=2\n",
      "Objective after step     5:  2.0000000\n",
      "Objective after step    10: -2.0000000\n",
      "Objective after step    15: -2.0000000\n",
      "Objective after step    20:  2.0000000\n",
      "Objective after step    25:  4.0000000\n",
      "Objective after step    30:  4.0000000\n",
      "Objective after step    35:  2.0000000\n",
      "Objective after step    40:  0.0000000\n",
      "Objective after step    45: -2.0000000\n",
      "Objective after step    50: -2.0000000\n",
      "Optimized (gamma, beta) vectors:\n",
      "[[ 0.07996694 -0.71464364]\n",
      " [ 0.86949636 -0.48968742]]\n",
      "Most frequently sampled bit string is: 1010 with probability 0.4140\n"
     ]
    },
    {
     "data": {
      "image/png": "[encoded data removed]",
      "text/plain": [
       "<Figure size 1152x576 with 1 Axes>"
      ]
     },
     "metadata": {
      "needs_background": "light"
     },
     "output_type": "display_data"
    }
   ],
   "source": [
    "params, bitstrings = sqaoa(n_layers=1)\n",
    "graph(bitstrings)"
   ]
  },
  {
   "cell_type": "code",
   "execution_count": 15,
   "metadata": {
    "scrolled": true
   },
   "outputs": [
    {
     "name": "stdout",
     "output_type": "stream",
     "text": [
      "x = (0,0): obj0 = 0, obj1 = 0, objc = 0\n",
      "x = (0,1): obj0 = -3, obj1 = 1, objc = -2\n",
      "x = (1,0): obj0 = 1, obj1 = 1, objc = 2\n",
      "x = (1,1): obj0 = 0, obj1 = 4, objc = 4\n"
     ]
    }
   ],
   "source": [
    "for i in range(2):\n",
    "    for ii in range(2):\n",
    "        o0 = obj0(i,ii)\n",
    "        o1 = obj1(i,ii)\n",
    "        print(f'x = ({i},{ii}): obj0 = {o0}, obj1 = {o1}, objc = {o0 + o1}')"
   ]
  },
  {
   "cell_type": "code",
   "execution_count": null,
   "metadata": {},
   "outputs": [],
   "source": [
    "def write_to_latex(angles, name, file):\n",
    "    pwd = !pwd\n",
    "    with open(f'{pwd[0]}/{file}','w') as f:\n",
    "        f.write(f'{name} = \\n')\n",
    "        if len(angles) == 1:\n",
    "            f.write(f'{angles[0]:.4f}')\n",
    "        else:\n",
    "            f.write('\\\\begin{btmatrix}\\n')\n",
    "            for i in range(len(angles)):\n",
    "                f.write(f'\\t{angles[i][0]:.4f}')\n",
    "                if i != len(angles) - 1:\n",
    "                    f.write(' \\\\\\\\\\n')\n",
    "            f.write('\\n\\\\end{btmatrix}')             "
   ]
  },
  {
   "cell_type": "markdown",
   "metadata": {},
   "source": [
    "## Testing ##"
   ]
  },
  {
   "cell_type": "code",
   "execution_count": null,
   "metadata": {
    "scrolled": true
   },
   "outputs": [],
   "source": [
    "bs = {}\n",
    "\n",
    "def to_bit_dict(bitstrings, bs):\n",
    "    bitstrings.sort()\n",
    "    for i in bitstrings:\n",
    "        if f'{i:03b}' in bs.keys():\n",
    "            bs[f'{i:03b}'] += 1\n",
    "        else:\n",
    "            bs[f'{i:03b}'] = 1\n",
    "    return bs\n",
    "bs = to_bit_dict(bitstrings, bs)\n",
    "bs"
   ]
  },
  {
   "cell_type": "code",
   "execution_count": null,
   "metadata": {},
   "outputs": [],
   "source": [
    "@qml.qnode(qml.device('default.qubit', wires=range(4)))\n",
    "def circuit(x):\n",
    "    qml.Hadamard(wires=0)\n",
    "    qml.Hadamard(wires=1)\n",
    "    qml.Hadamard(wires=2)\n",
    "    qml.Hadamard(wires=3)\n",
    "    \n",
    "    qml.PauliX(2)\n",
    "    qml.ctrl(qml.RX, (1,2,3), control_values=to_ctrl_val(1,3))(x, wires=0)\n",
    "    return qml.expval(qml.PauliZ(0))\n",
    "print(qml.draw(circuit)(\"x\"))"
   ]
  },
  {
   "cell_type": "code",
   "execution_count": null,
   "metadata": {},
   "outputs": [],
   "source": []
  }
 ],
 "metadata": {
  "kernelspec": {
   "display_name": "Python 3 (ipykernel)",
   "language": "python",
   "name": "python3"
  },
  "language_info": {
   "codemirror_mode": {
    "name": "ipython",
    "version": 3
   },
   "file_extension": ".py",
   "mimetype": "text/x-python",
   "name": "python",
   "nbconvert_exporter": "python",
   "pygments_lexer": "ipython3",
   "version": "3.10.6"
  }
 },
 "nbformat": 4,
 "nbformat_minor": 1
}
